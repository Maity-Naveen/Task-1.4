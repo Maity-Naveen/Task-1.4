{
  "nbformat": 4,
  "nbformat_minor": 0,
  "metadata": {
    "colab": {
      "provenance": [],
      "authorship_tag": "ABX9TyMk/zYgwl39GwaAxP9ZAINj",
      "include_colab_link": true
    },
    "kernelspec": {
      "name": "python3",
      "display_name": "Python 3"
    },
    "language_info": {
      "name": "python"
    }
  },
  "cells": [
    {
      "cell_type": "markdown",
      "metadata": {
        "id": "view-in-github",
        "colab_type": "text"
      },
      "source": [
        "<a href=\"https://colab.research.google.com/github/Maity-Naveen/Task-1.4/blob/main/Untitled16.ipynb\" target=\"_parent\"><img src=\"https://colab.research.google.com/assets/colab-badge.svg\" alt=\"Open In Colab\"/></a>"
      ]
    },
    {
      "cell_type": "markdown",
      "source": [
        "** Task Description #1 **\n",
        " Start a Python class named Student with attributes name, roll_number, and marks. Prompt\n",
        "GitHub Copilot to complete methods for displaying details and checking if marks are above\n",
        "average."
      ],
      "metadata": {
        "id": "bNanYUGjWSY1"
      }
    },
    {
      "cell_type": "code",
      "source": [
        "class student:\n",
        "  def __init__(self,name,roll_number,marks):\n",
        "    self.name=name\n",
        "    self.roll_number=roll_number\n",
        "    self.marks=marks\n",
        "#method to display student details\n",
        "  def display_details(self):\n",
        "    print(\"Name:\",self.name)\n",
        "    print(\"Roll Number:\",self.roll_number)\n",
        "    print(\"Marks:\",self.marks)\n",
        "# method to check if student passed(marks>=40)\n",
        "  def check_pass_fail(self):\n",
        "    if self.marks>=40:\n",
        "      print(\"Pass\")\n",
        "    else:\n",
        "      print(\"Fail\")\n",
        "s1= student(\"aisha\",101,85)\n",
        "s2= student(\"ravi\",102,35)\n",
        "s1.display_details()\n",
        "s1.check_pass_fail()\n",
        "s2.display_details()\n",
        "s2.check_pass_fail()\n",
        "print(s1.check_pass_fail())\n",
        "print(s2.check_pass_fail())"
      ],
      "metadata": {
        "colab": {
          "base_uri": "https://localhost:8080/"
        },
        "id": "UmGBGilYRXKC",
        "outputId": "7fc27a9e-3832-4762-f3ae-9db50fbc7e87"
      },
      "execution_count": 7,
      "outputs": [
        {
          "output_type": "stream",
          "name": "stdout",
          "text": [
            "Name: aisha\n",
            "Roll Number: 101\n",
            "Marks: 85\n",
            "Pass\n",
            "Name: ravi\n",
            "Roll Number: 102\n",
            "Marks: 35\n",
            "Fail\n",
            "Pass\n",
            "None\n",
            "Fail\n",
            "None\n"
          ]
        }
      ]
    },
    {
      "cell_type": "markdown",
      "source": [
        "**Task Description #2:**\n",
        "• Write the first two lines of a for loop to iterate through a list of numbers. Use a comment\n",
        "prompt to let Copilot suggest how to calculate and print the square of even numbers only."
      ],
      "metadata": {
        "id": "CFcHhaJMV0j5"
      }
    },
    {
      "cell_type": "code",
      "execution_count": 6,
      "metadata": {
        "id": "h_oJ_eYkQp2f",
        "colab": {
          "base_uri": "https://localhost:8080/"
        },
        "outputId": "b96a04ef-b075-4ab0-87b2-e177718e8003"
      },
      "outputs": [
        {
          "output_type": "stream",
          "name": "stdout",
          "text": [
            "Even numbers\n",
            "2\n",
            "6\n",
            "12\n",
            "8\n",
            "Odd numbers\n",
            "1\n",
            "3\n",
            "5\n",
            "9\n",
            "11\n",
            "Square of even numbers\n",
            "4\n",
            "36\n",
            "144\n",
            "64\n"
          ]
        }
      ],
      "source": [
        "# identify ,a number even or odd and find square of an even numbers\n",
        "num = [1,3,5,2,6,12,8,9,11,]\n",
        "print(\">Even numbers\")\n",
        "for i in num:\n",
        "  if i%2==0:\n",
        "    print(i)\n",
        "print(\"Odd numbers\")\n",
        "for i in num:\n",
        "  if i%2!=0:\n",
        "    print(i)\n",
        "print(\"Square of even numbers\")\n",
        "for i in num:\n",
        "  if i%2==0:\n",
        "    print(i**2)"
      ]
    },
    {
      "cell_type": "markdown",
      "source": [
        "Task Description #3:\n",
        "• Create a class called BankAccount with attributes account_holder and balance. Use Copilot to\n",
        "complete methods for deposit(), withdraw(), and check for insufficient balance."
      ],
      "metadata": {
        "id": "eplk1H70bbK8"
      }
    },
    {
      "cell_type": "code",
      "metadata": {
        "colab": {
          "base_uri": "https://localhost:8080/"
        },
        "id": "0ca814a4",
        "outputId": "f56e87cb-dbc1-4828-8cd6-af4610e3c2b1"
      },
      "source": [
        "#Create a class called BankAccount with attributes account_holder and balance\n",
        "class BankAccount:\n",
        "    def __init__(self, account_holder, balance=0):\n",
        "        self.account_holder = account_holder\n",
        "        self.balance = balance\n",
        "\n",
        "    def deposit(self, amount):\n",
        "        if amount > 0:\n",
        "            self.balance += amount\n",
        "            print(f\"Deposited {amount}. New balance: {self.balance}\")\n",
        "        else:\n",
        "            print(\"Deposit amount must be positive.\")\n",
        "\n",
        "    def withdraw(self, amount):\n",
        "        if self.check_insufficient_balance(amount):\n",
        "            print(\"Insufficient balance.\")\n",
        "        elif amount <= 0:\n",
        "            print(\"Withdrawal amount must be positive.\")\n",
        "        else:\n",
        "            self.balance -= amount\n",
        "            print(f\"Withdrew {amount}. New balance: {self.balance}\")\n",
        "\n",
        "\n",
        "    def check_insufficient_balance(self, amount):\n",
        "        return amount > self.balance\n",
        "\n",
        "# Example usage:\n",
        "account1 = BankAccount(\"Alice\")\n",
        "account1.deposit(1000)\n",
        "account1.withdraw(500)\n",
        "account1.withdraw(600)"
      ],
      "execution_count": 8,
      "outputs": [
        {
          "output_type": "stream",
          "name": "stdout",
          "text": [
            "Deposited 1000. New balance: 1000\n",
            "Withdrew 500. New balance: 500\n",
            "Insufficient balance.\n"
          ]
        }
      ]
    },
    {
      "cell_type": "markdown",
      "source": [
        "**Task Description #4:**\n",
        "• Define a list of student dictionaries with keys name and score. Ask Copilot to write a while\n",
        "loop to print the names of students who scored more than 75."
      ],
      "metadata": {
        "id": "MYzZv0Erea_M"
      }
    },
    {
      "cell_type": "code",
      "source": [
        "students = [\n",
        "    {\"name\": \"Alice\", \"score\": 85},\n",
        "    {\"name\": \"Bob\", \"score\": 70},\n",
        "    {\"name\": \"Charlie\", \"score\": 92},\n",
        "    {\"name\": \"David\", \"score\": 78},\n",
        "    {\"name\": \"Eve\", \"score\": 65},\n",
        "]\n",
        "\n",
        "i = 0\n",
        "while i < len(students):\n",
        "    if students[i][\"score\"] > 75:\n",
        "        print(students[i][\"name\"])\n",
        "    i += 1"
      ],
      "metadata": {
        "colab": {
          "base_uri": "https://localhost:8080/"
        },
        "id": "crKyCkZTeeKv",
        "outputId": "f6877a64-4623-472e-f54b-323824d54d21"
      },
      "execution_count": 9,
      "outputs": [
        {
          "output_type": "stream",
          "name": "stdout",
          "text": [
            "Alice\n",
            "Charlie\n",
            "David\n"
          ]
        }
      ]
    },
    {
      "cell_type": "markdown",
      "source": [
        "Task Description #5:\n",
        "• Begin writing a class ShoppingCart with an empty items list. Prompt Copilot to generate\n",
        "methods to add_item, remove_item, and use a loop to calculate the total bill using conditional\n",
        "discounts."
      ],
      "metadata": {
        "id": "-jj6Vzbwe_El"
      }
    },
    {
      "cell_type": "code",
      "source": [
        "class ShoppingCart:\n",
        "    def __init__(self):\n",
        "        self.items = []\n",
        "\n",
        "    def add_item(self, item, price, quantity=1):\n",
        "        self.items.append({\"item\": item, \"price\": price, \"quantity\": quantity})\n",
        "        print(f\"Added {quantity} of {item} to the cart.\")\n",
        "\n",
        "    def remove_item(self, item):\n",
        "        for i in range(len(self.items)):\n",
        "            if self.items[i][\"item\"] == item:\n",
        "                del self.items[i]\n",
        "                print(f\"Removed {item} from the cart.\")\n",
        "                return\n",
        "        print(f\"{item} not found in the cart.\")\n",
        "\n",
        "    def calculate_total(self):\n",
        "        total = 0\n",
        "        for item in self.items:\n",
        "            item_total = item[\"price\"] * item[\"quantity\"]\n",
        "            # Apply discount based on quantity (example)\n",
        "            if item[\"quantity\"] >= 5:\n",
        "                item_total *= 0.9  # 10% discount for 5 or more items\n",
        "            total += item_total\n",
        "        # Apply discount based on total bill (example)\n",
        "        if total >= 100:\n",
        "            total *= 0.95  # 5% discount for total bill of 100 or more\n",
        "        return total\n",
        "\n",
        "# Example Usage\n",
        "cart = ShoppingCart()\n",
        "cart.add_item(\"Laptop\", 1000, 1)\n",
        "cart.add_item(\"Mouse\", 25, 2)\n",
        "cart.add_item(\"Keyboard\", 75, 1)\n",
        "cart.add_item(\"Pen\", 1, 10) # This item will get a quantity discount\n",
        "\n",
        "print(\"\\nItems in cart:\")\n",
        "for item in cart.items:\n",
        "    print(f\"- {item['item']}: ${item['price']} x {item['quantity']}\")\n",
        "\n",
        "print(f\"\\nTotal bill: ${cart.calculate_total():.2f}\")\n",
        "\n",
        "cart.remove_item(\"Mouse\")\n",
        "print(\"\\nItems in cart after removing Mouse:\")\n",
        "for item in cart.items:\n",
        "    print(f\"- {item['item']}: ${item['price']} x {item['quantity']}\")\n",
        "\n",
        "print(f\"\\nTotal bill: ${cart.calculate_total():.2f}\")"
      ],
      "metadata": {
        "colab": {
          "base_uri": "https://localhost:8080/"
        },
        "id": "bUDAIkhnfIRx",
        "outputId": "513aa6ff-5d05-4e4d-cae3-740e58dcbafe"
      },
      "execution_count": 11,
      "outputs": [
        {
          "output_type": "stream",
          "name": "stdout",
          "text": [
            "Added 1 of Laptop to the cart.\n",
            "Added 2 of Mouse to the cart.\n",
            "Added 1 of Keyboard to the cart.\n",
            "Added 10 of Pen to the cart.\n",
            "\n",
            "Items in cart:\n",
            "- Laptop: $1000 x 1\n",
            "- Mouse: $25 x 2\n",
            "- Keyboard: $75 x 1\n",
            "- Pen: $1 x 10\n",
            "\n",
            "Total bill: $1077.30\n",
            "Removed Mouse from the cart.\n",
            "\n",
            "Items in cart after removing Mouse:\n",
            "- Laptop: $1000 x 1\n",
            "- Keyboard: $75 x 1\n",
            "- Pen: $1 x 10\n",
            "\n",
            "Total bill: $1029.80\n"
          ]
        }
      ]
    }
  ]
}