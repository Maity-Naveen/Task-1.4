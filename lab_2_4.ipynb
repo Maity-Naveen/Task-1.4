{
  "nbformat": 4,
  "nbformat_minor": 0,
  "metadata": {
    "colab": {
      "provenance": [],
      "authorship_tag": "ABX9TyNXyVeONKjTrA7bXSyeXnfB",
      "include_colab_link": true
    },
    "kernelspec": {
      "name": "python3",
      "display_name": "Python 3"
    },
    "language_info": {
      "name": "python"
    }
  },
  "cells": [
    {
      "cell_type": "markdown",
      "metadata": {
        "id": "view-in-github",
        "colab_type": "text"
      },
      "source": [
        "<a href=\"https://colab.research.google.com/github/Maity-Naveen/Task-1.4/blob/main/lab_2_4.ipynb\" target=\"_parent\"><img src=\"https://colab.research.google.com/assets/colab-badge.svg\" alt=\"Open In Colab\"/></a>"
      ]
    },
    {
      "cell_type": "markdown",
      "source": [
        " Task 1 : Python code that sorts a list in two ways: 1. Using bubble sort algorithm (manual implementation) 2. Using Python's built-in sort() method 3 Print both sorted lists for comparison\n",
        "\n",
        " prompt : create a Python code that sorts a list in two ways: 1. Using bubble sort algorithm (manual implementation) 2. Using Python's built-in sort() method 3 Print both sorted lists for comparison with examples"
      ],
      "metadata": {
        "id": "A_vpDeOWO_uI"
      }
    },
    {
      "cell_type": "code",
      "metadata": {
        "colab": {
          "base_uri": "https://localhost:8080/"
        },
        "id": "76b19e9b",
        "outputId": "8651e583-0c4c-4e58-e5ac-c733dbfdc424"
      },
      "source": [
        "def bubble_sort(lst):\n",
        "  \"\"\"Sorts a list using the bubble sort algorithm.\"\"\"\n",
        "  n = len(lst)\n",
        "  for i in range(n):\n",
        "    # Last i elements are already in place\n",
        "    for j in range(0, n - i - 1):\n",
        "      # Traverse the list from 0 to n-i-1\n",
        "      # Swap if the element found is greater than the next element\n",
        "      if lst[j] > lst[j + 1]:\n",
        "        lst[j], lst[j + 1] = lst[j + 1], lst[j]\n",
        "  return lst\n",
        "\n",
        "# Example list\n",
        "my_list = [64, 34, 25, 12, 22, 11, 90]\n",
        "\n",
        "# 1. Sort using bubble sort\n",
        "bubble_sorted_list = bubble_sort(my_list.copy()) # Use a copy to keep the original list for the built-in sort\n",
        "\n",
        "# 2. Sort using Python's built-in sort() method\n",
        "my_list.sort() # Sorts the list in-place\n",
        "\n",
        "# 3. Print both sorted lists\n",
        "print(\"Original list:\", [64, 34, 25, 12, 22, 11, 90]) # Print original for context\n",
        "print(\"Bubble sorted list:\", bubble_sorted_list)\n",
        "print(\"Built-in sorted list:\", my_list)"
      ],
      "execution_count": 2,
      "outputs": [
        {
          "output_type": "stream",
          "name": "stdout",
          "text": [
            "Original list: [64, 34, 25, 12, 22, 11, 90]\n",
            "Bubble sorted list: [11, 12, 22, 25, 34, 64, 90]\n",
            "Built-in sorted list: [11, 12, 22, 25, 34, 64, 90]\n"
          ]
        }
      ]
    },
    {
      "cell_type": "markdown",
      "source": [
        "def bubble_sort(lst):\n",
        "  \"\"\"Sorts a list using the bubble sort algorithm.\"\"\"\n",
        "  n = len(lst)\n",
        "  for i in range(n):\n",
        "    # Last i elements are already in place\n",
        "    for j in range(0, n - i - 1):\n",
        "      # Traverse the list from 0 to n-i-1\n",
        "      # Swap if the element found is greater than the next element\n",
        "      if lst[j] > lst[j + 1]:\n",
        "        lst[j], lst[j + 1] = lst[j + 1], lst[j]\n",
        "  return lst\n",
        "\n",
        "# Example list\n",
        "my_list = [64, 34, 25, 12, 22, 11, 90]\n",
        "\n",
        "# 1. Sort using bubble sort\n",
        "bubble_sorted_list = bubble_sort(my_list.copy()) # Use a copy to keep the original list for the built-in sort\n",
        "\n",
        "# 2. Sort using Python's built-in sort() method\n",
        "my_list.sort() # Sorts the list in-place\n",
        "\n",
        "# 3. Print both sorted lists\n",
        "print(\"Original list:\", [64, 34, 25, 12, 22, 11, 90]) # Print original for context\n",
        "print(\"Bubble sorted list:\", bubble_sorted_list)\n",
        "print(\"Built-in sorted list:\", my_list)"
      ],
      "metadata": {
        "id": "25KS8u_vY9Dc"
      }
    },
    {
      "cell_type": "markdown",
      "source": [],
      "metadata": {
        "id": "wbKgOe2iVpqf"
      }
    },
    {
      "cell_type": "markdown",
      "source": [
        " Task 2 : Python function that takes a string and returns: - Number of vowels - Number of consonants - Number of digits Test the function with an example string and print the results\n",
        "\n",
        " prompt : create a Python function that takes a string and returns: - Number of vowels - Number of consonants - Number of digits Test the function with an example string and print the results examples"
      ],
      "metadata": {
        "id": "vAIJPJdUUynL"
      }
    },
    {
      "cell_type": "code",
      "metadata": {
        "colab": {
          "base_uri": "https://localhost:8080/"
        },
        "id": "f9790077",
        "outputId": "21dc4f82-9351-4a51-9834-f4a1dce48f3f"
      },
      "source": [
        "def analyze_string(input_string):\n",
        "  \"\"\"\n",
        "  Analyzes a string to count vowels, consonants, and digits.\n",
        "\n",
        "  Args:\n",
        "    input_string: The string to analyze.\n",
        "\n",
        "  Returns:\n",
        "    A tuple containing the counts of vowels, consonants, and digits.\n",
        "  \"\"\"\n",
        "  vowels = \"aeiouAEIOU\"\n",
        "  consonants = \"bcdfghjklmnpqrstvwxyzBCDFGHJKLMNPQRSTVWXYZ\"\n",
        "  digits = \"0123456789\"\n",
        "\n",
        "  vowel_count = 0\n",
        "  consonant_count = 0\n",
        "  digit_count = 0\n",
        "\n",
        "  for char in input_string:\n",
        "    if char in vowels:\n",
        "      vowel_count += 1\n",
        "    elif char in consonants:\n",
        "      consonant_count += 1\n",
        "    elif char in digits:\n",
        "      digit_count += 1\n",
        "\n",
        "  return vowel_count, consonant_count, digit_count\n",
        "\n",
        "# Test the function with an example string\n",
        "example_string = \"Hello World 123!\"\n",
        "vowels, consonants, digits = analyze_string(example_string)\n",
        "\n",
        "print(f\"Analyzing the string: '{example_string}'\")\n",
        "print(f\"Number of vowels: {vowels}\")\n",
        "print(f\"Number of consonants: {consonants}\")\n",
        "print(f\"Number of digits: {digits}\")"
      ],
      "execution_count": null,
      "outputs": [
        {
          "output_type": "stream",
          "name": "stdout",
          "text": [
            "Analyzing the string: 'Hello World 123!'\n",
            "Number of vowels: 3\n",
            "Number of consonants: 7\n",
            "Number of digits: 3\n"
          ]
        }
      ]
    },
    {
      "cell_type": "markdown",
      "source": [],
      "metadata": {
        "id": "ZeaEoZ6eWTla"
      }
    },
    {
      "cell_type": "markdown",
      "source": [
        "Task 1 : Python code to:\n",
        "  1. Create a text file\n",
        "  2. Write some sample text into it\n",
        "  3. Read the text from the file and display it\n",
        "\n",
        "Prompt :  Write Python code to:\n",
        "  1. Create a text file\n",
        "  2. Write some sample text into it\n",
        "  3. Read the text from the file and display it\n",
        "  with examples\n"
      ],
      "metadata": {
        "id": "SDdZcTC7WaSe"
      }
    },
    {
      "cell_type": "code",
      "source": [
        "# Define the filename\n",
        "file_name = \"sample_text_file.txt\"\n",
        "\n",
        "# 1. Create a text file and write some sample text into it\n",
        "try:\n",
        "  with open(file_name, \"w\") as file:\n",
        "    file.write(\"This is some sample text.\\n\")\n",
        "    file.write(\"This is the second line.\\n\")\n",
        "    file.write(\"And this is the third line.\")\n",
        "  print(f\"Successfully created and wrote to '{file_name}'\")\n",
        "\n",
        "  # 2. Read the text from the file and display it\n",
        "  with open(file_name, \"r\") as file:\n",
        "    file_content = file.read()\n",
        "  print(f\"\\nContent of '{file_name}':\")\n",
        "  print(file_content)\n",
        "\n",
        "except IOError as e:\n",
        "  print(f\"An error occurred: {e}\")"
      ],
      "metadata": {
        "colab": {
          "base_uri": "https://localhost:8080/"
        },
        "id": "7yro3jN2W_Br",
        "outputId": "0f07c144-1386-4050-ed3b-82415486f128"
      },
      "execution_count": 3,
      "outputs": [
        {
          "output_type": "stream",
          "name": "stdout",
          "text": [
            "Successfully created and wrote to 'sample_text_file.txt'\n",
            "\n",
            "Content of 'sample_text_file.txt':\n",
            "This is some sample text.\n",
            "This is the second line.\n",
            "And this is the third line.\n"
          ]
        }
      ]
    },
    {
      "cell_type": "markdown",
      "source": [],
      "metadata": {
        "id": "9plziUu-Wcx-"
      }
    },
    {
      "cell_type": "markdown",
      "source": [
        " Task 1 : Python program for a simple calculator using functions:\n",
        " -add, subtract, multiply, divide\n",
        " -Ask the user to select an operation and enter two numbers\n",
        " -Perform the calculation and print the result.\n",
        "\n",
        " prompt : Write a Python program for a simple calculator using functions:\n",
        " -add, subtract, multiply, divide\n",
        " -Ask the user to select an operation and enter two -numbers\n",
        " -Perform the calculation and print the result with examples"
      ],
      "metadata": {
        "id": "1XuaMciDWdOm"
      }
    },
    {
      "cell_type": "code",
      "source": [
        "def add(x, y):\n",
        "  \"\"\"Adds two numbers.\"\"\"\n",
        "  return x + y\n",
        "\n",
        "def subtract(x, y):\n",
        "  \"\"\"Subtracts two numbers.\"\"\"\n",
        "  return x - y\n",
        "\n",
        "def multiply(x, y):\n",
        "  \"\"\"Multiplies two numbers.\"\"\"\n",
        "  return x * y\n",
        "\n",
        "def divide(x, y):\n",
        "  \"\"\"Divides two numbers.\"\"\"\n",
        "  if y == 0:\n",
        "    return \"Error! Division by zero.\"\n",
        "  else:\n",
        "    return x / y\n",
        "\n",
        "print(\"Select operation:\")\n",
        "print(\"1.Add\")\n",
        "print(\"2.Subtract\")\n",
        "print(\"3.Multiply\")\n",
        "print(\"4.Divide\")\n",
        "\n",
        "while True:\n",
        "  # Take input from the user\n",
        "  choice = input(\"Enter choice(1/2/3/4): \")\n",
        "\n",
        "  # Check if choice is one of the four options\n",
        "  if choice in ('1', '2', '3', '4'):\n",
        "    try:\n",
        "      num1 = float(input(\"Enter first number: \"))\n",
        "      num2 = float(input(\"Enter second number: \"))\n",
        "    except ValueError:\n",
        "      print(\"Invalid input. Please enter numbers.\")\n",
        "      continue\n",
        "\n",
        "    if choice == '1':\n",
        "      print(num1, \"+\", num2, \"=\", add(num1, num2))\n",
        "\n",
        "    elif choice == '2':\n",
        "      print(num1, \"-\", num2, \"=\", subtract(num1, num2))\n",
        "\n",
        "    elif choice == '3':\n",
        "      print(num1, \"*\", num2, \"=\", multiply(num1, num2))\n",
        "\n",
        "    elif choice == '4':\n",
        "      print(num1, \"/\", num2, \"=\", divide(num1, num2))\n",
        "    break\n",
        "  else:\n",
        "    print(\"Invalid Input\")"
      ],
      "metadata": {
        "colab": {
          "base_uri": "https://localhost:8080/"
        },
        "id": "G5XVIm3xXqkI",
        "outputId": "59b95569-bc02-4616-84b1-555e97ccb583"
      },
      "execution_count": null,
      "outputs": [
        {
          "output_type": "stream",
          "name": "stdout",
          "text": [
            "Select operation:\n",
            "1.Add\n",
            "2.Subtract\n",
            "3.Multiply\n",
            "4.Divide\n"
          ]
        }
      ]
    },
    {
      "cell_type": "markdown",
      "source": [],
      "metadata": {
        "id": "G7qo9cZ-WeJa"
      }
    },
    {
      "cell_type": "markdown",
      "source": [
        " Task 1 : Python program that checks if a given year is a leap year.\n",
        " prompt : create a python code for addition of two numbers with examples"
      ],
      "metadata": {
        "id": "o8CKlhI3WeeI"
      }
    }
  ]
}